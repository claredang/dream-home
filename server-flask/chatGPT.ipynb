{
 "cells": [
  {
   "cell_type": "code",
   "execution_count": 8,
   "id": "b9126b22",
   "metadata": {},
   "outputs": [],
   "source": [
    "import os\n",
    "import openai\n",
    "from dotenv import load_dotenv, find_dotenv\n",
    "_ = load_dotenv(find_dotenv()) # read local .env file\n",
    "\n",
    "openai.api_key  = os.environ['OPENAI_API_KEY']"
   ]
  },
  {
   "cell_type": "code",
   "execution_count": 9,
   "id": "6f417bd0",
   "metadata": {},
   "outputs": [],
   "source": [
    "def get_completion_from_messages(messages, \n",
    "                                 model=\"gpt-3.5-turbo\", \n",
    "                                 temperature=0, \n",
    "                                 max_tokens=500):\n",
    "    response = openai.ChatCompletion.create(\n",
    "        model=model,\n",
    "        messages=messages,\n",
    "        temperature=temperature,\n",
    "        max_tokens=max_tokens,\n",
    "    )\n",
    "    return response.choices[0].message[\"content\"]"
   ]
  },
  {
   "cell_type": "code",
   "execution_count": 12,
   "id": "cd9783ac",
   "metadata": {},
   "outputs": [
    {
     "name": "stdout",
     "output_type": "stream",
     "text": [
      "N\n"
     ]
    }
   ],
   "source": [
    "delimiter = \"####\"\n",
    "system_message = f\"\"\"\n",
    "Your task is to determine whether a user mentions a location in this list \\\n",
    "['Miami, Florida, US', 'Stockholm, Sweden', 'Vermont, US', 'Los Angeles, California, US', 'Las Vegas, Nevada, US', 'Chicago, Illinois, US', 'San Diego, California, US', 'Oslo, Norway', 'Malibu, California, US', 'Copenhagen', 'Tuscany', 'New Orleans', 'Beverly Hills', 'Seattle', 'Cape Cod', 'Helsinki', 'Montana, US', 'Austin, Texas, US', 'Bali, Indonesia', 'Ho Chi Minh City, Vietnam', 'Tokyo', 'Seoul']\n",
    "The system instruction is: \\\n",
    "Assistant must always respond with either: \n",
    "- element (eg: 'Vermont, US') - if the location user mentions is in any of the city list above (can be a street or district in that city too)\n",
    "- N - otherwise\n",
    "\n",
    "Output a single character.\n",
    "\"\"\"\n",
    "\n",
    "input_user_message = f\"\"\"\n",
    "Is the  Brooklyn street is in any of these cities\"\"\"\n",
    "\n",
    "# remove possible delimiters in the user's message\n",
    "input_user_message = input_user_message.replace(delimiter, \"\")\n",
    "\n",
    "# user_message_for_model = f\"\"\"User message, \\\n",
    "# remember that your response can only in 2 options \\\n",
    "# {delimiter}{input_user_message}{delimiter}\n",
    "# \"\"\"\n",
    "\n",
    "messages =  [  \n",
    "{'role':'system', 'content': system_message},    \n",
    "{'role':'user', 'content': input_user_message},  \n",
    "] \n",
    "response = get_completion_from_messages(messages)\n",
    "print(response)"
   ]
  },
  {
   "cell_type": "code",
   "execution_count": null,
   "id": "bf06fe12",
   "metadata": {},
   "outputs": [],
   "source": []
  }
 ],
 "metadata": {
  "kernelspec": {
   "display_name": "ml",
   "language": "python",
   "name": "ml"
  },
  "language_info": {
   "codemirror_mode": {
    "name": "ipython",
    "version": 3
   },
   "file_extension": ".py",
   "mimetype": "text/x-python",
   "name": "python",
   "nbconvert_exporter": "python",
   "pygments_lexer": "ipython3",
   "version": "3.9.13"
  }
 },
 "nbformat": 4,
 "nbformat_minor": 5
}
